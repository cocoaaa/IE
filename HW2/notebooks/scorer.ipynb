{
 "cells": [
  {
   "cell_type": "code",
   "execution_count": 14,
   "metadata": {},
   "outputs": [],
   "source": [
    "%reload_ext autoreload\n",
    "%autoreload 2\n",
    "%matplotlib inline"
   ]
  },
  {
   "cell_type": "code",
   "execution_count": 15,
   "metadata": {},
   "outputs": [],
   "source": [
    "from IPython.core.interactiveshell import InteractiveShell\n",
    "# InteractiveShell.ast_node_interactivity = \"all\"\n",
    "InteractiveShell.ast_node_interactivity = 'last_expr'"
   ]
  },
  {
   "cell_type": "code",
   "execution_count": 16,
   "metadata": {},
   "outputs": [],
   "source": [
    "import os,sys\n",
    "import re\n",
    "\n",
    "sys.dont_write_bytecode = True"
   ]
  },
  {
   "cell_type": "code",
   "execution_count": 17,
   "metadata": {},
   "outputs": [],
   "source": [
    "import pandas as pd\n",
    "# import geopandas as gpd\n",
    "from sklearn.externals import joblib\n",
    "\n",
    "import numpy as np\n",
    "import matplotlib.pyplot as plt\n",
    "import cv2\n",
    "\n",
    "from pprint import pprint\n",
    "from pathlib import Path\n",
    "# import joblib\n",
    "\n",
    "\n",
    "import pdb"
   ]
  },
  {
   "cell_type": "code",
   "execution_count": 18,
   "metadata": {},
   "outputs": [
    {
     "name": "stdout",
     "output_type": "stream",
     "text": [
      "this nb path:  /home/hayley/Workspace/Class/IE/HW2/notebooks\n"
     ]
    },
    {
     "data": {
      "text/plain": [
       "['/home/hayley/Workspace/Class/IE/HW2/notebooks',\n",
       " '/home/hayley/miniconda3/envs/fastai/lib/python36.zip',\n",
       " '/home/hayley/miniconda3/envs/fastai/lib/python3.6',\n",
       " '/home/hayley/miniconda3/envs/fastai/lib/python3.6/lib-dynload',\n",
       " '',\n",
       " '/home/hayley/miniconda3/envs/fastai/lib/python3.6/site-packages',\n",
       " '/home/hayley/miniconda3/envs/fastai/lib/python3.6/site-packages/IPython/extensions',\n",
       " '/home/hayley/.ipython']"
      ]
     },
     "execution_count": 18,
     "metadata": {},
     "output_type": "execute_result"
    }
   ],
   "source": [
    "this_nb_path = os.getcwd()\n",
    "print(\"this nb path: \", this_nb_path)\n",
    "if this_nb_path not in sys.path:\n",
    "    sys.path.insert(0, this_nb_path)\n",
    "sys.path"
   ]
  },
  {
   "cell_type": "code",
   "execution_count": 25,
   "metadata": {},
   "outputs": [],
   "source": [
    "## Link the Util functions"
   ]
  },
  {
   "cell_type": "code",
   "execution_count": 30,
   "metadata": {},
   "outputs": [
    {
     "name": "stdout",
     "output_type": "stream",
     "text": [
      "/home/hayley/Workspace/Class/IE/HW2\n",
      "['/home/hayley/Workspace/Class/IE/HW2/scripts/Utils', '/home/hayley/Workspace/Class/IE/HW2/notebooks', '/home/hayley/miniconda3/envs/fastai/lib/python36.zip', '/home/hayley/miniconda3/envs/fastai/lib/python3.6', '/home/hayley/miniconda3/envs/fastai/lib/python3.6/lib-dynload', '', '/home/hayley/miniconda3/envs/fastai/lib/python3.6/site-packages', '/home/hayley/miniconda3/envs/fastai/lib/python3.6/site-packages/IPython/extensions', '/home/hayley/.ipython']\n"
     ]
    }
   ],
   "source": [
    "ROOT = Path(this_nb_path).parent\n",
    "print(ROOT)\n",
    "UTIL_DIR = ROOT/'scripts/Utils/'\n",
    "\n",
    "# Add UTIL_DIR to the head of the sys.path\n",
    "if str(UTIL_DIR) not in sys.path:\n",
    "    sys.path.insert(0, str(UTIL_DIR))\n",
    "print(sys.path)\n",
    "\n",
    "                    "
   ]
  },
  {
   "cell_type": "code",
   "execution_count": 31,
   "metadata": {},
   "outputs": [],
   "source": [
    "# import all functions in the Utils.score.py file"
   ]
  },
  {
   "cell_type": "code",
   "execution_count": 33,
   "metadata": {},
   "outputs": [],
   "source": [
    "from scorer import *\n",
    "# test\n",
    "precision_recall"
   ]
  },
  {
   "cell_type": "markdown",
   "metadata": {},
   "source": [
    "## Link fastai library"
   ]
  },
  {
   "cell_type": "code",
   "execution_count": 19,
   "metadata": {},
   "outputs": [
    {
     "name": "stdout",
     "output_type": "stream",
     "text": [
      "/home/hayley/Workspace/fastai/old/fastai, /home/hayley/Workspace/Class/IE/HW2/notebooks/fastai\n"
     ]
    }
   ],
   "source": [
    "FASTAI_ROOT = '/home/hayley/Workspace/fastai/old/fastai'\n",
    "FASTAI_SYMLINK = os.path.join(this_nb_path, 'fastai')\n",
    "!echo {FASTAI_ROOT}, {FASTAI_SYMLINK}"
   ]
  },
  {
   "cell_type": "code",
   "execution_count": 22,
   "metadata": {},
   "outputs": [
    {
     "name": "stdout",
     "output_type": "stream",
     "text": [
      "lrwxrwxrwx. 1 hayley hayley     40 Dec 12 12:30 \u001b[01;31m\u001b[Kfastai\u001b[m\u001b[K -> /home/hayley/Workspace/\u001b[01;31m\u001b[Kfastai\u001b[m\u001b[K/old/\u001b[01;31m\u001b[Kfastai\u001b[m\u001b[K\n"
     ]
    }
   ],
   "source": [
    "!ln -s {FASTAI_ROOT} {FASTAI_SYMLINK}\n",
    "# !rm {FASTAI_SYMLINK}\n",
    "!ls -al . | grep fastai"
   ]
  },
  {
   "cell_type": "markdown",
   "metadata": {},
   "source": [
    "## Import fastai libraries"
   ]
  },
  {
   "cell_type": "code",
   "execution_count": 23,
   "metadata": {},
   "outputs": [
    {
     "name": "stderr",
     "output_type": "stream",
     "text": [
      "/home/hayley/miniconda3/envs/fastai/lib/python3.6/importlib/_bootstrap.py:219: ImportWarning: can't resolve package from __spec__ or __package__, falling back on __name__ and __path__\n",
      "  return f(*args, **kwds)\n",
      "/home/hayley/miniconda3/envs/fastai/lib/python3.6/importlib/_bootstrap.py:219: ImportWarning: can't resolve package from __spec__ or __package__, falling back on __name__ and __path__\n",
      "  return f(*args, **kwds)\n"
     ]
    }
   ],
   "source": [
    "from fastai.dataloader import *\n",
    "from fastai.dataset import *"
   ]
  },
  {
   "cell_type": "code",
   "execution_count": 3,
   "metadata": {},
   "outputs": [
    {
     "name": "stderr",
     "output_type": "stream",
     "text": [
      "/home/hayley/miniconda3/envs/fastai/lib/python3.6/importlib/_bootstrap.py:219: ImportWarning: can't resolve package from __spec__ or __package__, falling back on __name__ and __path__\n",
      "  return f(*args, **kwds)\n"
     ]
    }
   ],
   "source": [
    "from sklearn.metrics import f1_score"
   ]
  },
  {
   "cell_type": "code",
   "execution_count": 5,
   "metadata": {},
   "outputs": [
    {
     "data": {
      "text/plain": [
       "array([0.33333333, 0.75      , 0.75      ])"
      ]
     },
     "execution_count": 5,
     "metadata": {},
     "output_type": "execute_result"
    }
   ],
   "source": [
    "y = ['a','a','a','b','b','b','c','c','c','c','c']\n",
    "yh= ['b','b','a','b','b','b','c','a','a','c','c']\n",
    "f1_score(y, yh, labels=np.unique(y), average=None)\n",
    "         "
   ]
  },
  {
   "cell_type": "code",
   "execution_count": 7,
   "metadata": {},
   "outputs": [],
   "source": [
    "from sklearn.metrics import classification_report"
   ]
  },
  {
   "cell_type": "code",
   "execution_count": 9,
   "metadata": {},
   "outputs": [
    {
     "name": "stdout",
     "output_type": "stream",
     "text": [
      "              precision    recall  f1-score   support\n",
      "\n",
      "           a       0.33      0.33      0.33         3\n",
      "           b       0.60      1.00      0.75         3\n",
      "           c       1.00      0.60      0.75         5\n",
      "\n",
      "   micro avg       0.64      0.64      0.64        11\n",
      "   macro avg       0.64      0.64      0.61        11\n",
      "weighted avg       0.71      0.64      0.64        11\n",
      "\n"
     ]
    }
   ],
   "source": [
    "print(classification_report(y, yh))"
   ]
  },
  {
   "cell_type": "code",
   "execution_count": 10,
   "metadata": {},
   "outputs": [],
   "source": [
    "# # This will be how we use to see the classification report\n",
    "# targets = np.unique(y_test)\n",
    "# print(classification_report(y_test, y_test_pred, target_names=targets))\n",
    "\n",
    "# # this will be how we compute the f1-macro score\n",
    "# print(f1_score(y_test, y_test_pred, labels=targets, average='macro')\n",
    "      \n",
    "      "
   ]
  },
  {
   "cell_type": "code",
   "execution_count": 11,
   "metadata": {},
   "outputs": [
    {
     "data": {
      "text/plain": [
       "'/home/hayley/Workspace/Class/IE/HW2/notebooks'"
      ]
     },
     "execution_count": 11,
     "metadata": {},
     "output_type": "execute_result"
    }
   ],
   "source": [
    "pwd"
   ]
  },
  {
   "cell_type": "code",
   "execution_count": 12,
   "metadata": {},
   "outputs": [
    {
     "data": {
      "text/plain": [
       "['/home/hayley/miniconda3/envs/fastai/lib/python36.zip',\n",
       " '/home/hayley/miniconda3/envs/fastai/lib/python3.6',\n",
       " '/home/hayley/miniconda3/envs/fastai/lib/python3.6/lib-dynload',\n",
       " '',\n",
       " '/home/hayley/miniconda3/envs/fastai/lib/python3.6/site-packages',\n",
       " '/home/hayley/miniconda3/envs/fastai/lib/python3.6/site-packages/IPython/extensions',\n",
       " '/home/hayley/.ipython']"
      ]
     },
     "execution_count": 12,
     "metadata": {},
     "output_type": "execute_result"
    }
   ],
   "source": [
    "import sys\n",
    "sys.path"
   ]
  },
  {
   "cell_type": "code",
   "execution_count": 13,
   "metadata": {},
   "outputs": [
    {
     "ename": "NameError",
     "evalue": "name 'os' is not defined",
     "output_type": "error",
     "traceback": [
      "\u001b[0;31m---------------------------------------------------------------------------\u001b[0m",
      "\u001b[0;31mNameError\u001b[0m                                 Traceback (most recent call last)",
      "\u001b[0;32m<ipython-input-13-90dfbbed93df>\u001b[0m in \u001b[0;36m<module>\u001b[0;34m\u001b[0m\n\u001b[0;32m----> 1\u001b[0;31m \u001b[0mthis_nb_path\u001b[0m \u001b[0;34m=\u001b[0m \u001b[0mos\u001b[0m\u001b[0;34m.\u001b[0m\u001b[0mgetcwd\u001b[0m\u001b[0;34m(\u001b[0m\u001b[0;34m)\u001b[0m\u001b[0;34m\u001b[0m\u001b[0m\n\u001b[0m\u001b[1;32m      2\u001b[0m \u001b[0mprint\u001b[0m\u001b[0;34m(\u001b[0m\u001b[0;34m\"this nb path: \"\u001b[0m\u001b[0;34m,\u001b[0m \u001b[0mthis_nb_path\u001b[0m\u001b[0;34m)\u001b[0m\u001b[0;34m\u001b[0m\u001b[0m\n\u001b[1;32m      3\u001b[0m \u001b[0;32mif\u001b[0m \u001b[0mthis_nb_path\u001b[0m \u001b[0;32mnot\u001b[0m \u001b[0;32min\u001b[0m \u001b[0msys\u001b[0m\u001b[0;34m.\u001b[0m\u001b[0mpath\u001b[0m\u001b[0;34m:\u001b[0m\u001b[0;34m\u001b[0m\u001b[0m\n\u001b[1;32m      4\u001b[0m     \u001b[0msys\u001b[0m\u001b[0;34m.\u001b[0m\u001b[0mpath\u001b[0m\u001b[0;34m.\u001b[0m\u001b[0minsert\u001b[0m\u001b[0;34m(\u001b[0m\u001b[0;36m0\u001b[0m\u001b[0;34m,\u001b[0m \u001b[0mthis_nb_path\u001b[0m\u001b[0;34m)\u001b[0m\u001b[0;34m\u001b[0m\u001b[0m\n\u001b[1;32m      5\u001b[0m \u001b[0msys\u001b[0m\u001b[0;34m.\u001b[0m\u001b[0mpath\u001b[0m\u001b[0;34m\u001b[0m\u001b[0m\n",
      "\u001b[0;31mNameError\u001b[0m: name 'os' is not defined"
     ]
    }
   ],
   "source": [
    "this_nb_path = os.getcwd()\n",
    "print(\"this nb path: \", this_nb_path)\n",
    "if this_nb_path not in sys.path:\n",
    "    sys.path.insert(0, this_nb_path)\n",
    "sys.path"
   ]
  },
  {
   "cell_type": "code",
   "execution_count": null,
   "metadata": {},
   "outputs": [],
   "source": []
  }
 ],
 "metadata": {
  "kernelspec": {
   "display_name": "Python 3",
   "language": "python",
   "name": "python3"
  },
  "language_info": {
   "codemirror_mode": {
    "name": "ipython",
    "version": 3
   },
   "file_extension": ".py",
   "mimetype": "text/x-python",
   "name": "python",
   "nbconvert_exporter": "python",
   "pygments_lexer": "ipython3",
   "version": "3.6.6"
  }
 },
 "nbformat": 4,
 "nbformat_minor": 2
}
